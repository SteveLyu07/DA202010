{
 "cells": [
  {
   "cell_type": "code",
   "execution_count": 7,
   "metadata": {},
   "outputs": [
    {
     "name": "stdout",
     "output_type": "stream",
     "text": [
      "{'key1': 'hello world', 'key2': 100, 'key3': 0.618, 'key4': ['a', 'b', 1, 2, 3], 'key5': ('a', 'b', 1, 2, 3)}\n"
     ]
    }
   ],
   "source": [
    "#---基础---\n",
    "#1.创建字典\n",
    "dic={\n",
    "    'key1':'hello world',\n",
    "    'key2':100,\n",
    "    'key3':0.618,\n",
    "    'key4':['a','b',1,2,3],\n",
    "    'key5':('a','b',1,2,3)\n",
    "}\n",
    "print(dic)"
   ]
  },
  {
   "cell_type": "code",
   "execution_count": 8,
   "metadata": {},
   "outputs": [
    {
     "name": "stdout",
     "output_type": "stream",
     "text": [
      "{'key1': 'hello world', 'key2': 100, 'key3': 0.618, 'key4': ['a', 'b', 1, 2, 3], 'key5': ('a', 'b', 1, 2, 3), 'key100': 'CAS'}\n"
     ]
    }
   ],
   "source": [
    "#添加键值对 key value-pair\n",
    "dic['key100'] = 'CAS'\n",
    "print(dic)"
   ]
  },
  {
   "cell_type": "code",
   "execution_count": null,
   "metadata": {},
   "outputs": [],
   "source": []
  }
 ],
 "metadata": {
  "kernelspec": {
   "display_name": "Python 3",
   "language": "python",
   "name": "python3"
  },
  "language_info": {
   "codemirror_mode": {
    "name": "ipython",
    "version": 3
   },
   "file_extension": ".py",
   "mimetype": "text/x-python",
   "name": "python",
   "nbconvert_exporter": "python",
   "pygments_lexer": "ipython3",
   "version": "3.7.6"
  }
 },
 "nbformat": 4,
 "nbformat_minor": 4
}