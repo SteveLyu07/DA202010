{
 "cells": [
  {
   "cell_type": "code",
   "execution_count": 7,
   "metadata": {},
   "outputs": [
    {
     "name": "stdout",
     "output_type": "stream",
     "text": [
      "{'key1': 'hello world', 'key2': 100, 'key3': 0.618, 'key4': ['a', 'b', 1, 2, 3], 'key5': ('a', 'b', 1, 2, 3)}\n"
     ]
    }
   ],
   "source": [
    "#---基础---\n",
    "#创建、访问、修改、删除\n",
    "#1.创建字典\n",
    "dic={\n",
    "    'key1':'hello world',\n",
    "    'key2':100,\n",
    "    'key3':0.618,\n",
    "    'key4':['a','b',1,2,3],\n",
    "    'key5':('a','b',1,2,3)\n",
    "}\n",
    "print(dic)"
   ]
  },
  {
   "cell_type": "code",
   "execution_count": 8,
   "metadata": {},
   "outputs": [
    {
     "name": "stdout",
     "output_type": "stream",
     "text": [
      "{'key1': 'hello world', 'key2': 100, 'key3': 0.618, 'key4': ['a', 'b', 1, 2, 3], 'key5': ('a', 'b', 1, 2, 3), 'key100': 'CAS'}\n"
     ]
    }
   ],
   "source": [
    "#添加键值对 key value-pair\n",
    "dic['key100'] = 'CAS'\n",
    "print(dic)"
   ]
  },
  {
   "cell_type": "code",
   "execution_count": 9,
   "metadata": {},
   "outputs": [
    {
     "name": "stdout",
     "output_type": "stream",
     "text": [
      "('a', 'b', 1, 2, 3)\n"
     ]
    }
   ],
   "source": [
    "#2.访问字典\n",
    "#2.1 通过key读取value\n",
    "value = dic['key5']\n",
    "print(value)\n",
    "#若有两个相同的key，会读取同名的最后一个"
   ]
  },
  {
   "cell_type": "code",
   "execution_count": 10,
   "metadata": {},
   "outputs": [
    {
     "name": "stdout",
     "output_type": "stream",
     "text": [
      "dict_keys(['key1', 'key2', 'key3', 'key4', 'key5', 'key100'])\n",
      "key1\n",
      "key2\n",
      "key3\n",
      "key4\n",
      "key5\n",
      "key100\n"
     ]
    }
   ],
   "source": [
    "#2.2.1 获取key\n",
    "list_keys = dic.keys()\n",
    "print(list_keys)\n",
    "\n",
    "for k in list_keys:\n",
    "    print(k)"
   ]
  },
  {
   "cell_type": "code",
   "execution_count": 11,
   "metadata": {},
   "outputs": [
    {
     "name": "stdout",
     "output_type": "stream",
     "text": [
      "dict_values(['hello world', 100, 0.618, ['a', 'b', 1, 2, 3], ('a', 'b', 1, 2, 3), 'CAS'])\n",
      "hello world\n",
      "100\n",
      "0.618\n",
      "['a', 'b', 1, 2, 3]\n",
      "('a', 'b', 1, 2, 3)\n",
      "CAS\n"
     ]
    }
   ],
   "source": [
    "#2.2.2 获取values\n",
    "list_values = dic.values()\n",
    "print(list_values)\n",
    "\n",
    "for k in list_values:\n",
    "    print(k)"
   ]
  },
  {
   "cell_type": "code",
   "execution_count": 12,
   "metadata": {},
   "outputs": [
    {
     "name": "stdout",
     "output_type": "stream",
     "text": [
      "key1 :\t hello world\n",
      "key2 :\t 100\n",
      "key3 :\t 0.618\n",
      "key4 :\t ['a', 'b', 1, 2, 3]\n",
      "key5 :\t ('a', 'b', 1, 2, 3)\n",
      "key100 :\t CAS\n",
      "[('key1', 'hello world'), ('key2', 100), ('key3', 0.618), ('key4', ['a', 'b', 1, 2, 3]), ('key5', ('a', 'b', 1, 2, 3)), ('key100', 'CAS')]\n"
     ]
    }
   ],
   "source": [
    "#2.2.3获取键值并以元组形式存入列表\n",
    "pairs = []\n",
    "for k,v in dic.items():\n",
    "    print(k,':\\t',v) # \\t表示一个tab\n",
    "    pair = (k,v)\n",
    "    pairs.append(pair)\n",
    "print(pairs)"
   ]
  },
  {
   "cell_type": "code",
   "execution_count": 14,
   "metadata": {},
   "outputs": [
    {
     "name": "stdout",
     "output_type": "stream",
     "text": [
      "{'key1': 'hello world', 'key2': 3000, 'key3': 0.618, 'key4': ['a', 'b', 1, 2, 3], 'key5': ('a', 'b', 1, 2, 3), 'key100': 'CAS'}\n",
      "{'key1': 'hello world', 'key2': 3000, 'key3': 0.618, 'key4': ['a', 'b', 1, 2, 3], 'key5': ('a', 'b', 1, 2, 3), 'key100': 'CAS', 'key22': 2000}\n"
     ]
    }
   ],
   "source": [
    "#3.修改字典\n",
    "dic['key2'] = 3000\n",
    "print(dic)\n",
    "\n",
    "dic['key22'] = 2000 #若key不存在，会新增，但C++等中会报错显示这个key不存在\n",
    "print(dic)"
   ]
  },
  {
   "cell_type": "code",
   "execution_count": 15,
   "metadata": {},
   "outputs": [
    {
     "name": "stdout",
     "output_type": "stream",
     "text": [
      "{'key1': 'hello world', 'key2': 3000, 'key3': 0.618, 'key4': ['a', 'b', 1, 2, 3], 'key5': ('a', 'b', 1, 2, 3), 'key100': 'CAS'}\n"
     ]
    }
   ],
   "source": [
    "#4.删除字典\n",
    "del dic['key22']\n",
    "print(dic)"
   ]
  },
  {
   "cell_type": "code",
   "execution_count": 18,
   "metadata": {},
   "outputs": [
    {
     "name": "stdout",
     "output_type": "stream",
     "text": [
      "{'name': None, 'age': None, 'sex': None}\n"
     ]
    }
   ],
   "source": [
    "#---进阶---\n",
    "#创建、访问、修改、删除\n",
    "#1.1 创建\n",
    "dic = {}\n",
    "seq = ('name','age','sex')\n",
    "dic = dic.fromkeys(seq)\n",
    "print(dic)"
   ]
  },
  {
   "cell_type": "code",
   "execution_count": 20,
   "metadata": {},
   "outputs": [
    {
     "name": "stdout",
     "output_type": "stream",
     "text": [
      "{'name': 10, 'age': 10, 'sex': 10}\n"
     ]
    }
   ],
   "source": [
    "#1.2 以默认值创建\n",
    "dic = dic.fromkeys(seq,10)\n",
    "print(dic)"
   ]
  },
  {
   "cell_type": "code",
   "execution_count": null,
   "metadata": {},
   "outputs": [],
   "source": [
    "#2.访问字典\n",
    "#2.1 \n",
    "if 'age' in dic:\n",
    "    print('键 存在')\n",
    "else:\n",
    "    print('键 不存在')"
   ]
  },
  {
   "cell_type": "code",
   "execution_count": 21,
   "metadata": {},
   "outputs": [
    {
     "name": "stdout",
     "output_type": "stream",
     "text": [
      "None\n"
     ]
    }
   ],
   "source": [
    "#2.2.1 返回指定键的值\n",
    "v = dic.get('school')\n",
    "print(v)"
   ]
  },
  {
   "cell_type": "code",
   "execution_count": 22,
   "metadata": {},
   "outputs": [
    {
     "name": "stdout",
     "output_type": "stream",
     "text": [
      "CAS\n"
     ]
    }
   ],
   "source": [
    "#2.2.2 返回指定键的值，若不存在则返回默认值\n",
    "v = dic.get('school','CAS')\n",
    "print(v)"
   ]
  },
  {
   "cell_type": "code",
   "execution_count": 24,
   "metadata": {},
   "outputs": [
    {
     "name": "stdout",
     "output_type": "stream",
     "text": [
      "{'name': 10, 'age': 10, 'sex': 10, 'school': 'CAS'}\n"
     ]
    }
   ],
   "source": [
    "v = dic.setdefault('school','CAS')\n",
    "print(dic)"
   ]
  },
  {
   "cell_type": "code",
   "execution_count": 25,
   "metadata": {},
   "outputs": [
    {
     "name": "stdout",
     "output_type": "stream",
     "text": [
      "{'name': 10, 'age': 10, 'sex': 10, 'school': 'CSA'}\n",
      "('school', 'CSA')\n",
      "{'name': 10, 'age': 10, 'sex': 10}\n"
     ]
    }
   ],
   "source": [
    "#2.3 随机返回并删除字典中的（最后一个）键值对\n",
    "dic['school'] = 'CSA'\n",
    "print(dic)\n",
    "popped = dic.popitem()\n",
    "print(popped)\n",
    "print(dic)"
   ]
  },
  {
   "cell_type": "code",
   "execution_count": null,
   "metadata": {},
   "outputs": [],
   "source": [
    "#堆栈 LIFO --子弹夹 后进先出\n",
    "#队列 FIFO --消息队列 常用数据结构：微信、游戏等"
   ]
  },
  {
   "cell_type": "code",
   "execution_count": 27,
   "metadata": {},
   "outputs": [
    {
     "name": "stdout",
     "output_type": "stream",
     "text": [
      "10\n",
      "{'age': 10, 'sex': 10}\n"
     ]
    }
   ],
   "source": [
    "#2.4 删除指定key\n",
    "popped = dic.pop('name','默认值')\n",
    "#popped = dic.pop('name') 不设置默认值的话若不存在会报错\n",
    "print(popped)\n",
    "print(dic)"
   ]
  },
  {
   "cell_type": "code",
   "execution_count": 28,
   "metadata": {},
   "outputs": [
    {
     "name": "stdout",
     "output_type": "stream",
     "text": [
      "{'age': 20, 'sex': 10, 'name': 'Mike', 'height': 1.88, 'weight': 70}\n"
     ]
    }
   ],
   "source": [
    "#3.修改字典\n",
    "dic_new = {\n",
    "    'name':'Mike',\n",
    "    'height':1.88,\n",
    "    'weight':70,\n",
    "    'age':20\n",
    "}\n",
    "dic.update(dic_new)\n",
    "print(dic)\n",
    "#没有则添加，有则用新字典覆盖"
   ]
  },
  {
   "cell_type": "code",
   "execution_count": 29,
   "metadata": {},
   "outputs": [
    {
     "name": "stdout",
     "output_type": "stream",
     "text": [
      "{}\n"
     ]
    }
   ],
   "source": [
    "#4.删除字典\n",
    "dic.clear() #清空字典\n",
    "print(dic)"
   ]
  },
  {
   "cell_type": "code",
   "execution_count": 30,
   "metadata": {},
   "outputs": [],
   "source": [
    "del dic #删除字典"
   ]
  },
  {
   "cell_type": "code",
   "execution_count": null,
   "metadata": {},
   "outputs": [],
   "source": []
  }
 ],
 "metadata": {
  "kernelspec": {
   "display_name": "Python 3",
   "language": "python",
   "name": "python3"
  },
  "language_info": {
   "codemirror_mode": {
    "name": "ipython",
    "version": 3
   },
   "file_extension": ".py",
   "mimetype": "text/x-python",
   "name": "python",
   "nbconvert_exporter": "python",
   "pygments_lexer": "ipython3",
   "version": "3.7.6"
  }
 },
 "nbformat": 4,
 "nbformat_minor": 4
}
